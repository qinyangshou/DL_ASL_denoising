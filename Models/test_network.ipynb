{
 "cells": [
  {
   "cell_type": "code",
   "execution_count": 1,
   "id": "6cfb00e3",
   "metadata": {},
   "outputs": [],
   "source": [
    "from DWAN import DWAN_network\n",
    "import torch"
   ]
  },
  {
   "cell_type": "code",
   "execution_count": 2,
   "id": "064fbb15",
   "metadata": {},
   "outputs": [
    {
     "name": "stdout",
     "output_type": "stream",
     "text": [
      "DWAN_network(\n",
      "  (conv0): Conv2d(3, 32, kernel_size=(3, 3), stride=(1, 1), padding=same)\n",
      "  (local_pathway): Sequential(\n",
      "    (0): ResBlock(\n",
      "      (resblock_conv_1): Conv2d(32, 128, kernel_size=(3, 3), stride=(1, 1), padding=same)\n",
      "      (resblock_act): ReLU(inplace=True)\n",
      "      (resblock_conv_2): Conv2d(128, 32, kernel_size=(3, 3), stride=(1, 1), padding=same)\n",
      "    )\n",
      "    (1): ResBlock(\n",
      "      (resblock_conv_1): Conv2d(32, 128, kernel_size=(3, 3), stride=(1, 1), padding=same)\n",
      "      (resblock_act): ReLU(inplace=True)\n",
      "      (resblock_conv_2): Conv2d(128, 32, kernel_size=(3, 3), stride=(1, 1), padding=same)\n",
      "    )\n",
      "    (2): ResBlock(\n",
      "      (resblock_conv_1): Conv2d(32, 128, kernel_size=(3, 3), stride=(1, 1), padding=same)\n",
      "      (resblock_act): ReLU(inplace=True)\n",
      "      (resblock_conv_2): Conv2d(128, 32, kernel_size=(3, 3), stride=(1, 1), padding=same)\n",
      "    )\n",
      "    (3): ResBlock(\n",
      "      (resblock_conv_1): Conv2d(32, 128, kernel_size=(3, 3), stride=(1, 1), padding=same)\n",
      "      (resblock_act): ReLU(inplace=True)\n",
      "      (resblock_conv_2): Conv2d(128, 32, kernel_size=(3, 3), stride=(1, 1), padding=same)\n",
      "    )\n",
      "  )\n",
      "  (global_pathway): Sequential(\n",
      "    (0): ResBlock(\n",
      "      (resblock_conv_1): Conv2d(32, 128, kernel_size=(3, 3), stride=(1, 1), padding=same)\n",
      "      (resblock_act): ReLU(inplace=True)\n",
      "      (resblock_conv_2): Conv2d(128, 32, kernel_size=(3, 3), stride=(1, 1), padding=same)\n",
      "    )\n",
      "    (1): ResBlock(\n",
      "      (resblock_conv_1): Conv2d(32, 128, kernel_size=(3, 3), stride=(1, 1), padding=same, dilation=(2, 2))\n",
      "      (resblock_act): ReLU(inplace=True)\n",
      "      (resblock_conv_2): Conv2d(128, 32, kernel_size=(3, 3), stride=(1, 1), padding=same)\n",
      "    )\n",
      "    (2): ResBlock(\n",
      "      (resblock_conv_1): Conv2d(32, 128, kernel_size=(3, 3), stride=(1, 1), padding=same, dilation=(4, 4))\n",
      "      (resblock_act): ReLU(inplace=True)\n",
      "      (resblock_conv_2): Conv2d(128, 32, kernel_size=(3, 3), stride=(1, 1), padding=same)\n",
      "    )\n",
      "    (3): ResBlock(\n",
      "      (resblock_conv_1): Conv2d(32, 128, kernel_size=(3, 3), stride=(1, 1), padding=same, dilation=(8, 8))\n",
      "      (resblock_act): ReLU(inplace=True)\n",
      "      (resblock_conv_2): Conv2d(128, 32, kernel_size=(3, 3), stride=(1, 1), padding=same)\n",
      "    )\n",
      "  )\n",
      "  (conv_final): Conv2d(64, 1, kernel_size=(3, 3), stride=(1, 1), padding=same)\n",
      "  (direct_conv): Conv2d(3, 1, kernel_size=(3, 3), stride=(1, 1), padding=same)\n",
      ")\n"
     ]
    }
   ],
   "source": [
    "my_network = DWAN_network(img_channel = 3)\n",
    "print(my_network)"
   ]
  },
  {
   "cell_type": "code",
   "execution_count": 5,
   "id": "b6104149",
   "metadata": {},
   "outputs": [
    {
     "name": "stdout",
     "output_type": "stream",
     "text": [
      "----------------------------------------------------------------\n",
      "        Layer (type)               Output Shape         Param #\n",
      "================================================================\n",
      "            Conv2d-1            [-1, 1, 48, 48]              28\n",
      "            Conv2d-2           [-1, 32, 48, 48]             896\n",
      "            Conv2d-3          [-1, 128, 48, 48]          36,992\n",
      "              ReLU-4          [-1, 128, 48, 48]               0\n",
      "            Conv2d-5           [-1, 32, 48, 48]          36,896\n",
      "          ResBlock-6           [-1, 32, 48, 48]               0\n",
      "            Conv2d-7          [-1, 128, 48, 48]          36,992\n",
      "              ReLU-8          [-1, 128, 48, 48]               0\n",
      "            Conv2d-9           [-1, 32, 48, 48]          36,896\n",
      "         ResBlock-10           [-1, 32, 48, 48]               0\n",
      "           Conv2d-11          [-1, 128, 48, 48]          36,992\n",
      "             ReLU-12          [-1, 128, 48, 48]               0\n",
      "           Conv2d-13           [-1, 32, 48, 48]          36,896\n",
      "         ResBlock-14           [-1, 32, 48, 48]               0\n",
      "           Conv2d-15          [-1, 128, 48, 48]          36,992\n",
      "             ReLU-16          [-1, 128, 48, 48]               0\n",
      "           Conv2d-17           [-1, 32, 48, 48]          36,896\n",
      "         ResBlock-18           [-1, 32, 48, 48]               0\n",
      "           Conv2d-19          [-1, 128, 48, 48]          36,992\n",
      "             ReLU-20          [-1, 128, 48, 48]               0\n",
      "           Conv2d-21           [-1, 32, 48, 48]          36,896\n",
      "         ResBlock-22           [-1, 32, 48, 48]               0\n",
      "           Conv2d-23          [-1, 128, 48, 48]          36,992\n",
      "             ReLU-24          [-1, 128, 48, 48]               0\n",
      "           Conv2d-25           [-1, 32, 48, 48]          36,896\n",
      "         ResBlock-26           [-1, 32, 48, 48]               0\n",
      "           Conv2d-27          [-1, 128, 48, 48]          36,992\n",
      "             ReLU-28          [-1, 128, 48, 48]               0\n",
      "           Conv2d-29           [-1, 32, 48, 48]          36,896\n",
      "         ResBlock-30           [-1, 32, 48, 48]               0\n",
      "           Conv2d-31          [-1, 128, 48, 48]          36,992\n",
      "             ReLU-32          [-1, 128, 48, 48]               0\n",
      "           Conv2d-33           [-1, 32, 48, 48]          36,896\n",
      "         ResBlock-34           [-1, 32, 48, 48]               0\n",
      "           Conv2d-35            [-1, 1, 48, 48]             577\n",
      "================================================================\n",
      "Total params: 592,605\n",
      "Trainable params: 592,605\n",
      "Non-trainable params: 0\n",
      "----------------------------------------------------------------\n",
      "Input size (MB): 0.03\n",
      "Forward/backward pass size (MB): 45.60\n",
      "Params size (MB): 2.26\n",
      "Estimated Total Size (MB): 47.88\n",
      "----------------------------------------------------------------\n"
     ]
    }
   ],
   "source": [
    "from torchsummary import summary\n",
    "device = torch.device(\"cuda:0\" if torch.cuda.is_available() else \"cpu\")\n",
    "my_network.to(device)\n",
    "summary(my_network,(3,48,48))"
   ]
  },
  {
   "cell_type": "code",
   "execution_count": null,
   "id": "a73279b5",
   "metadata": {},
   "outputs": [],
   "source": []
  }
 ],
 "metadata": {
  "kernelspec": {
   "display_name": "Python 3 (ipykernel)",
   "language": "python",
   "name": "python3"
  },
  "language_info": {
   "codemirror_mode": {
    "name": "ipython",
    "version": 3
   },
   "file_extension": ".py",
   "mimetype": "text/x-python",
   "name": "python",
   "nbconvert_exporter": "python",
   "pygments_lexer": "ipython3",
   "version": "3.7.12"
  }
 },
 "nbformat": 4,
 "nbformat_minor": 5
}
